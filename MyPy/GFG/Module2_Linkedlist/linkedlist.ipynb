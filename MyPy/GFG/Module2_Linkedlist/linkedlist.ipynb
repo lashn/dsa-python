{
 "cells": [
  {
   "cell_type": "code",
   "execution_count": null,
   "metadata": {},
   "outputs": [],
   "source": [
    "#linked list\n",
    "\n",
    "\n",
    "# class list:\n",
    "#     def __init__(self,k):\n",
    "#         self.key=k\n",
    "#         self.next=None\n",
    "        \n",
    "#     def printlist(head):\n",
    "#         curr=head\n",
    "#         while curr!=None:\n",
    "#             print(curr.key)\n",
    "#             curr=curr.next\n",
    "    \n",
    "    \n",
    "        \n",
    "\n",
    "            \n",
    "# head=list(10)\n",
    "# print(head.key)\n",
    "# head.next=list(20)\n",
    "# print(head.next.key)\n",
    "# list.printlist(head)\n",
    "# print(list.printlist)\n",
    "\n",
    "\n"
   ]
  },
  {
   "cell_type": "code",
   "execution_count": null,
   "metadata": {},
   "outputs": [],
   "source": []
  },
  {
   "cell_type": "code",
   "execution_count": null,
   "metadata": {},
   "outputs": [],
   "source": [
    "class Node:\n",
    "    def __init__(self, key):\n",
    "        self.key = key\n",
    "        self.next = None\n",
    "\n",
    "\n",
    "def printList(head):\n",
    "    curr = head\n",
    "    while curr!= None:\n",
    "        print(curr.key, end=\" \")\n",
    "        curr = curr.next\n",
    "    print(\"\")\n",
    "\n",
    "head = Node(10)\n",
    "head.next = Node(20)\n",
    "head.next.next = Node(15)\n",
    "head.next.next.next = Node(30)\n",
    "head.next.next.next.next = Node(40)\n",
    "head.next.next.next.next.next = Node(50)\n",
    "printList(head)\n",
    "\n",
    "\n"
   ]
  },
  {
   "cell_type": "code",
   "execution_count": null,
   "metadata": {},
   "outputs": [],
   "source": [
    "#search in linklist\n",
    "# printList(head)\n",
    "\n",
    "\n",
    "def searchlist(head,x):\n",
    "    curr=head\n",
    "    count=1\n",
    "    while curr!=None:\n",
    "        if curr.key==x:\n",
    "            return count\n",
    "        count=count+1\n",
    "        curr=curr.next\n",
    "    return -1\n",
    "\n",
    "    \n",
    "x=30\n",
    "print(searchlist(head,x))\n",
    "\n",
    "print(head.key)"
   ]
  },
  {
   "cell_type": "code",
   "execution_count": null,
   "metadata": {},
   "outputs": [],
   "source": [
    "#insert at the begining\n",
    "\n",
    "import copy\n",
    "\n",
    "def insertlist(head,x):\n",
    "    curr=copy.deepcopy(head)\n",
    "    head.key=x\n",
    "    head.next=curr\n",
    "    return head\n",
    "\n",
    "    \n",
    "x=50\n",
    "head=insertlist(head,x)\n",
    "y=65\n",
    "head=insertlist(head,y)\n",
    "printList(head)"
   ]
  },
  {
   "cell_type": "code",
   "execution_count": null,
   "metadata": {},
   "outputs": [],
   "source": [
    "# insert at end\n",
    "import copy\n",
    "\n",
    "\n",
    "def insertend(head, x):\n",
    "    curr = head\n",
    "    while curr.next != None:\n",
    "        curr = curr.next\n",
    "    curr.next = Node(x)\n",
    "#     head = curr\n",
    "    return head\n",
    "\n",
    "\n",
    "\n",
    "\n",
    "key = 60\n",
    "head = insertend(head, key)\n",
    "printList(head)\n"
   ]
  },
  {
   "cell_type": "code",
   "execution_count": 76,
   "metadata": {},
   "outputs": [
    {
     "name": "stdout",
     "output_type": "stream",
     "text": [
      "10 20 15 30 40 50 \n",
      "15\n",
      "30 40 50 \n",
      "10 20 15 70 \n",
      "10 20 15 70 30 40 50 \n",
      "10 20 15 70 30 40 50 \n"
     ]
    }
   ],
   "source": [
    "# insert at a position \n",
    "\n",
    "\n",
    "def insertpos(head, x):\n",
    "    curr = head\n",
    "    count=1\n",
    "    while count < pos-1:\n",
    "        count+=1\n",
    "#         print(curr.key)\n",
    "        curr = curr.next\n",
    "    print(curr.key)    \n",
    "    temp=curr.next\n",
    "    printList(temp)\n",
    "    curr.next=Node(x)\n",
    "    printList(head)\n",
    "    curr.next.next=temp\n",
    "    printList(head)\n",
    "    return head\n",
    "\n",
    "\n",
    "key = 70\n",
    "pos=4\n",
    "printList(head)\n",
    "head = insertpos(head, key)\n",
    "printList(head)\n"
   ]
  },
  {
   "cell_type": "code",
   "execution_count": 78,
   "metadata": {},
   "outputs": [
    {
     "name": "stdout",
     "output_type": "stream",
     "text": [
      "20 15 70 30 40 50 \n"
     ]
    }
   ],
   "source": [
    "#delete first node of linklist\n",
    "# insert at end\n",
    "\n",
    "\n",
    "\n",
    "def delfir(head):\n",
    "    head=head.next\n",
    "    return head\n",
    "\n",
    "\n",
    "\n",
    "\n",
    "\n",
    "head = delfir(head)\n",
    "printList(head)\n"
   ]
  },
  {
   "cell_type": "code",
   "execution_count": null,
   "metadata": {},
   "outputs": [],
   "source": [
    "#del last node\n",
    "\n",
    "def delend(head):\n",
    "    curr = head\n",
    "    while curr.next.next != None:\n",
    "        curr = curr.next\n",
    "    print(curr.key) \n",
    "    curr.next = None\n",
    "#     head = curr\n",
    "    return head\n",
    "\n",
    "\n",
    "printList(head)\n",
    "head = delend(head)\n",
    "printList(head)"
   ]
  },
  {
   "cell_type": "code",
   "execution_count": null,
   "metadata": {},
   "outputs": [],
   "source": [
    "#insert at sort point\n",
    "\n",
    "def delend(head):\n",
    "    curr = head\n",
    "    while curr.next.next != None:\n",
    "        curr = curr.next\n",
    "    print(curr.key) \n",
    "    curr.next = None\n",
    "#     head = curr\n",
    "    return head\n",
    "\n",
    "\n",
    "printList(head)\n",
    "head = delend(head)\n",
    "printList(head)"
   ]
  },
  {
   "cell_type": "code",
   "execution_count": null,
   "metadata": {},
   "outputs": [],
   "source": [
    "#reverse linklist\n",
    "\n"
   ]
  },
  {
   "cell_type": "code",
   "execution_count": 10,
   "metadata": {},
   "outputs": [
    {
     "name": "stdout",
     "output_type": "stream",
     "text": [
      "\n"
     ]
    }
   ],
   "source": [
    "#circular link\n",
    "\n",
    "class Node1:\n",
    "    def __init__(self, key):\n",
    "        self.key = key\n",
    "        self.next = None\n",
    "\n",
    "\n",
    "def printList(head):\n",
    "    curr = head\n",
    "    while curr!= head:\n",
    "        print(curr.key, end=\" \")\n",
    "        curr = curr.next\n",
    "    print(\"\")\n",
    "\n",
    "head = Node1(10)\n",
    "head.next = Node1(20)\n",
    "head.next.next = Node1(15)\n",
    "head.next.next.next = Node1(30)\n",
    "head.next.next.next.next = head\n",
    "\n",
    "printList(head)"
   ]
  },
  {
   "cell_type": "code",
   "execution_count": null,
   "metadata": {},
   "outputs": [],
   "source": []
  }
 ],
 "metadata": {
  "kernelspec": {
   "display_name": "Python 3",
   "language": "python",
   "name": "python3"
  },
  "language_info": {
   "codemirror_mode": {
    "name": "ipython",
    "version": 3
   },
   "file_extension": ".py",
   "mimetype": "text/x-python",
   "name": "python",
   "nbconvert_exporter": "python",
   "pygments_lexer": "ipython3",
   "version": "3.7.3"
  }
 },
 "nbformat": 4,
 "nbformat_minor": 2
}
