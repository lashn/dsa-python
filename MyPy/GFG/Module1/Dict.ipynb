{
 "cells": [
  {
   "cell_type": "code",
   "execution_count": 7,
   "metadata": {},
   "outputs": [
    {
     "name": "stdout",
     "output_type": "stream",
     "text": [
      "3\n",
      "10\n",
      "20\n",
      "30\n"
     ]
    }
   ],
   "source": [
    "#dict for unique elements\n",
    "\n",
    "l=[10,10,20,30,20]\n",
    "\n",
    "d={}\n",
    "for i in l:\n",
    "    if i in d:\n",
    "        d[i]+=1\n",
    "    else:\n",
    "        d[i]=1\n",
    "print(len(d))\n",
    "\n",
    "for i,j in d.items():\n",
    "    print(i)\n",
    "    \n",
    "    "
   ]
  },
  {
   "cell_type": "code",
   "execution_count": 5,
   "metadata": {},
   "outputs": [
    {
     "name": "stdout",
     "output_type": "stream",
     "text": [
      "3\n"
     ]
    }
   ],
   "source": [
    "#dict for unique elements using set\n",
    "\n",
    "l=[10,10,20,30,20]\n",
    "s=set(l)\n",
    "print(len(s))"
   ]
  },
  {
   "cell_type": "code",
   "execution_count": 28,
   "metadata": {},
   "outputs": [
    {
     "name": "stdout",
     "output_type": "stream",
     "text": [
      "1\n",
      "2\n",
      "3\n",
      "4\n",
      "5\n",
      "10\n",
      "20\n",
      "10\n",
      "30\n",
      "30\n",
      "20\n"
     ]
    }
   ],
   "source": [
    "# for i in l:\n",
    "#     print(i)\n",
    "\n",
    "for i in range(1,len(l)):\n",
    "    print(i)\n",
    "\n",
    "for i in range(0,len(l)):\n",
    "    print(l[i])"
   ]
  },
  {
   "cell_type": "code",
   "execution_count": 25,
   "metadata": {},
   "outputs": [
    {
     "name": "stdout",
     "output_type": "stream",
     "text": [
      "3\n",
      "3\n"
     ]
    }
   ],
   "source": [
    "#dict for unique elements using set #geeks\n",
    "\n",
    "def cDistinct(l):\n",
    "    res = 1\n",
    "    \n",
    "    for i in range(1,len(l)):\n",
    "        if l[i] not in l[0:i]:\n",
    "            res = res+1    \n",
    "    return res\n",
    "    \n",
    "l = [10,20,10,30,30,20]\n",
    "\n",
    "print(cDistinct(l))\n",
    "\n",
    "def cDistinct2(l):\n",
    "    return len(set(l))\n",
    "\n",
    "print(cDistinct2(l))"
   ]
  },
  {
   "cell_type": "code",
   "execution_count": null,
   "metadata": {},
   "outputs": [],
   "source": [
    "# sum 0 in a array\n",
    "\n",
    "\n"
   ]
  },
  {
   "cell_type": "code",
   "execution_count": null,
   "metadata": {},
   "outputs": [],
   "source": [
    "# palindrome combination\n",
    "\n"
   ]
  }
 ],
 "metadata": {
  "kernelspec": {
   "display_name": "Python 3",
   "language": "python",
   "name": "python3"
  },
  "language_info": {
   "codemirror_mode": {
    "name": "ipython",
    "version": 3
   },
   "file_extension": ".py",
   "mimetype": "text/x-python",
   "name": "python",
   "nbconvert_exporter": "python",
   "pygments_lexer": "ipython3",
   "version": "3.7.3"
  }
 },
 "nbformat": 4,
 "nbformat_minor": 2
}
