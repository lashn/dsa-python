{
 "cells": [
  {
   "cell_type": "code",
   "execution_count": 6,
   "metadata": {},
   "outputs": [
    {
     "name": "stdout",
     "output_type": "stream",
     "text": [
      "print of ABCD\n",
      "print of ABCD\n",
      "print of ABCD\n",
      "print of ABCD\n",
      "My name is John, I am 36\n"
     ]
    }
   ],
   "source": [
    "#string print options\n",
    "name=\"ABCD\"\n",
    "\n",
    "print(\"print of \"+name)\n",
    "print(f\"print of {name}\")\n",
    "s=f\"print of {name}\"\n",
    "print(s)\n",
    "print(f\"print of {name}\")\n",
    "\n",
    "txt2 = \"My name is {0}, I am {1}\".format(\"John\", 36)\n",
    "print(txt2)"
   ]
  },
  {
   "cell_type": "code",
   "execution_count": 11,
   "metadata": {},
   "outputs": [
    {
     "name": "stdout",
     "output_type": "stream",
     "text": [
      "['ABCD', 'is', 'alpha']\n",
      "ABCD'is'alpha\n",
      "ABCD is alpha\n"
     ]
    }
   ],
   "source": [
    "name=\"ABCD is alpha\"\n",
    "print(name.split())\n",
    "splitt=name.split()\n",
    "joined=(\"'\".join(splitt))\n",
    "print(joined)\n",
    "joined=(\" \".join(splitt))\n",
    "print(joined)\n",
    "\n"
   ]
  },
  {
   "cell_type": "code",
   "execution_count": null,
   "metadata": {},
   "outputs": [],
   "source": [
    "name=\"--aABCD is alpha--\"\n",
    "\n",
    "print(name.strip(\"-\"))\n",
    "print(name.lstrip(\"-\"))\n",
    "print(name.rstrip(\"-\"))"
   ]
  },
  {
   "cell_type": "code",
   "execution_count": null,
   "metadata": {},
   "outputs": [],
   "source": [
    "name=\"--ABCD is alpha--\"\n",
    "\n",
    "print(name.find(\"alpha\"))"
   ]
  },
  {
   "cell_type": "code",
   "execution_count": null,
   "metadata": {},
   "outputs": [],
   "source": [
    "# pattern search\n",
    "txt=\"geeks for geeks for geeks\"\n",
    "pat=\"geeks\"\n",
    "\n",
    "patlen=len(pat)\n",
    "findpat=txt.find(pat)\n",
    "\n",
    "if findpat>=0:\n",
    "    while findpat<patlen:\n",
    "        findpat=txt[findpat+1:].find(pat)\n",
    "        print(txt[findpat:])\n",
    "        findpat=findpat+1\n",
    "else:\n",
    "    print(\"no match\")\n",
    "    \n",
    "print(findpat)\n",
    "\n",
    "# print(txt.find(pat))"
   ]
  },
  {
   "cell_type": "code",
   "execution_count": null,
   "metadata": {},
   "outputs": [],
   "source": []
  }
 ],
 "metadata": {
  "kernelspec": {
   "display_name": "Python 3",
   "language": "python",
   "name": "python3"
  },
  "language_info": {
   "codemirror_mode": {
    "name": "ipython",
    "version": 3
   },
   "file_extension": ".py",
   "mimetype": "text/x-python",
   "name": "python",
   "nbconvert_exporter": "python",
   "pygments_lexer": "ipython3",
   "version": "3.7.3"
  }
 },
 "nbformat": 4,
 "nbformat_minor": 2
}
