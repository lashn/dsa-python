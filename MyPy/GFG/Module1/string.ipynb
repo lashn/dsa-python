{
 "cells": [
  {
   "cell_type": "code",
   "execution_count": 6,
   "metadata": {},
   "outputs": [
    {
     "name": "stdout",
     "output_type": "stream",
     "text": [
      "print of ABCD\n",
      "print of ABCD\n",
      "print of ABCD\n",
      "print of ABCD\n",
      "My name is John, I am 36\n"
     ]
    }
   ],
   "source": [
    "#string print options\n",
    "name=\"ABCD\"\n",
    "\n",
    "print(\"print of \"+name)\n",
    "print(f\"print of {name}\")\n",
    "s=f\"print of {name}\"\n",
    "print(s)\n",
    "print(f\"print of {name}\")\n",
    "\n",
    "txt2 = \"My name is {0}, I am {1}\".format(\"John\", 36)\n",
    "print(txt2)"
   ]
  },
  {
   "cell_type": "code",
   "execution_count": 11,
   "metadata": {},
   "outputs": [
    {
     "name": "stdout",
     "output_type": "stream",
     "text": [
      "['ABCD', 'is', 'alpha']\n",
      "ABCD'is'alpha\n",
      "ABCD is alpha\n"
     ]
    }
   ],
   "source": [
    "name=\"ABCD is alpha\"\n",
    "print(name.split())\n",
    "splitt=name.split()\n",
    "joined=(\"'\".join(splitt))\n",
    "print(joined)\n",
    "joined=(\" \".join(splitt))\n",
    "print(joined)\n",
    "\n"
   ]
  },
  {
   "cell_type": "code",
   "execution_count": null,
   "metadata": {},
   "outputs": [],
   "source": [
    "name=\"--aABCD is alpha--\"\n",
    "\n",
    "print(name.strip(\"-\"))\n",
    "print(name.lstrip(\"-\"))\n",
    "print(name.rstrip(\"-\"))"
   ]
  },
  {
   "cell_type": "code",
   "execution_count": 7,
   "metadata": {},
   "outputs": [
    {
     "name": "stdout",
     "output_type": "stream",
     "text": [
      "10\n"
     ]
    }
   ],
   "source": [
    "name=\"--ABCD is alpha--\"\n",
    "\n",
    "print(name.find(\"alpha\"))"
   ]
  },
  {
   "cell_type": "code",
   "execution_count": 16,
   "metadata": {},
   "outputs": [
    {
     "name": "stdout",
     "output_type": "stream",
     "text": [
      " geeks for geeks\n",
      "10\n"
     ]
    }
   ],
   "source": [
    "# pattern search\n",
    "txt=\"geeks for geeks for geeks\"\n",
    "pat=\"geeks\"\n",
    "\n",
    "patlen=len(pat)\n",
    "findpat=txt.find(pat)\n",
    "\n",
    "if findpat>=0:\n",
    "    while findpat<patlen:\n",
    "        findpat=txt[findpat+1:].find(pat)\n",
    "        print(txt[findpat:])\n",
    "        findpat=findpat+1\n",
    "else:\n",
    "    print(\"no match\")\n",
    "    \n",
    "print(findpat)\n",
    "\n",
    "# print(txt.find(pat))"
   ]
  },
  {
   "cell_type": "code",
   "execution_count": 15,
   "metadata": {},
   "outputs": [
    {
     "name": "stdout",
     "output_type": "stream",
     "text": [
      "0\n",
      "10\n",
      "20\n"
     ]
    }
   ],
   "source": [
    "# pattern search - geeks method\n",
    "txt=\"geeks for geeks for geeks\"\n",
    "pat=\"geeks\"\n",
    "\n",
    "patlen=len(pat)\n",
    "patpos=txt.find(pat)\n",
    "\n",
    "while patpos>=0:\n",
    "    print(patpos)\n",
    "    patpos=txt.find(pat,patpos+1)\n",
    "    \n",
    "\n",
    "\n",
    "# print(txt.find(pat))"
   ]
  },
  {
   "cell_type": "code",
   "execution_count": 31,
   "metadata": {},
   "outputs": [],
   "source": [
    "#check for palindrome - not working for odd \n",
    "a=\"abccba\"\n",
    "\n",
    "l=len(a)\n",
    "j=l-1\n",
    "\n",
    "for i in range(l):    \n",
    "    if i!=j or i==l/2:\n",
    "        if a[i]==a[j]:\n",
    "            j=j-1            \n",
    "        else:\n",
    "            print(\"not palindrome\")\n",
    "            break\n",
    "            \n",
    "    else:\n",
    "        print(\"its a palindrome\")\n",
    "        break\n",
    "            \n",
    "    \n",
    "    "
   ]
  },
  {
   "cell_type": "code",
   "execution_count": 2,
   "metadata": {},
   "outputs": [
    {
     "name": "stdout",
     "output_type": "stream",
     "text": [
      "Yes\n"
     ]
    }
   ],
   "source": [
    "#check for palindrome - geeks\n",
    "s = \"abcba\"\n",
    "low = 0\n",
    "\n",
    "high = len(s)-1\n",
    "\n",
    "while low<high:\n",
    "    if s[low]!=s[high]:\n",
    "        print(\"No\")\n",
    "        break\n",
    "    low = low+1\n",
    "    high = high-1\n",
    "    \n",
    "else:\n",
    "    print(\"Yes\")"
   ]
  },
  {
   "cell_type": "code",
   "execution_count": 1,
   "metadata": {},
   "outputs": [
    {
     "ename": "IndentationError",
     "evalue": "expected an indented block (<ipython-input-1-41b4cb3dfcd4>, line 9)",
     "output_type": "error",
     "traceback": [
      "\u001b[1;36m  File \u001b[1;32m\"<ipython-input-1-41b4cb3dfcd4>\"\u001b[1;36m, line \u001b[1;32m9\u001b[0m\n\u001b[1;33m    print(\"no\")\u001b[0m\n\u001b[1;37m        ^\u001b[0m\n\u001b[1;31mIndentationError\u001b[0m\u001b[1;31m:\u001b[0m expected an indented block\n"
     ]
    }
   ],
   "source": [
    "#check for anagram\n",
    "s1=\"abca\"\n",
    "s2=\"aabc\"\n",
    "\n",
    "if len(s1)==len(s2):\n",
    "    \n",
    "        \n",
    "\n",
    "print(\"no\")\n",
    "    \n",
    "   \n",
    "\n"
   ]
  },
  {
   "cell_type": "code",
   "execution_count": null,
   "metadata": {},
   "outputs": [],
   "source": []
  }
 ],
 "metadata": {
  "kernelspec": {
   "display_name": "Python 3",
   "language": "python",
   "name": "python3"
  },
  "language_info": {
   "codemirror_mode": {
    "name": "ipython",
    "version": 3
   },
   "file_extension": ".py",
   "mimetype": "text/x-python",
   "name": "python",
   "nbconvert_exporter": "python",
   "pygments_lexer": "ipython3",
   "version": "3.7.3"
  }
 },
 "nbformat": 4,
 "nbformat_minor": 2
}
