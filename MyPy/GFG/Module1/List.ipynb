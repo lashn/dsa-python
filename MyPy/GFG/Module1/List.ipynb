{
 "cells": [
  {
   "cell_type": "code",
   "execution_count": 2,
   "metadata": {},
   "outputs": [
    {
     "name": "stdout",
     "output_type": "stream",
     "text": [
      "30.0\n"
     ]
    }
   ],
   "source": [
    "#average\n",
    "list = [10,20,30,40,50]\n",
    "\n",
    "def avg(list):\n",
    "    sum=0   \n",
    "    for i in list:\n",
    "        sum=sum+i\n",
    "    return (sum/len(list))\n",
    "\n",
    "print(avg(list))"
   ]
  },
  {
   "cell_type": "code",
   "execution_count": 73,
   "metadata": {},
   "outputs": [
    {
     "name": "stdout",
     "output_type": "stream",
     "text": [
      "even[2, 10, 30, 80]\n",
      "odd[41, 15]\n"
     ]
    }
   ],
   "source": [
    "#seperate even and odd\n",
    "l = [2,10,41,30,15,80]\n",
    "\n",
    "odd=[]\n",
    "even=[]\n",
    "for x in l:\n",
    "    if x%2!=0:\n",
    "        odd.append(x)\n",
    "    else:\n",
    "        even.append(x)\n",
    "        \n",
    "print(\"even\"+str(even))\n",
    "print(\"odd\"+str(odd))"
   ]
  },
  {
   "cell_type": "code",
   "execution_count": 74,
   "metadata": {},
   "outputs": [
    {
     "name": "stdout",
     "output_type": "stream",
     "text": [
      "[8, 3, 7]\n"
     ]
    }
   ],
   "source": [
    "#smaller elements\n",
    "l=[8,100,20,40,3,7]\n",
    "x=10\n",
    "\n",
    "list=[]\n",
    "for i in l:\n",
    "    if i<x:\n",
    "        list.append(i)\n",
    "\n",
    "print(list)\n",
    "        \n"
   ]
  },
  {
   "cell_type": "code",
   "execution_count": 35,
   "metadata": {},
   "outputs": [
    {
     "name": "stdout",
     "output_type": "stream",
     "text": [
      "40\n"
     ]
    }
   ],
   "source": [
    "#largest number in array\n",
    "\n",
    "l = [10,20,30,5,6,40,4,5]\n",
    "\n",
    "def maxl(l):\n",
    "    fir=l[0]\n",
    "\n",
    "    for i in range[1,len(l)]:\n",
    "        if l[i]>fir:\n",
    "            fir=l[i]\n",
    "    return fir\n",
    "\n",
    "print(max(l))\n",
    "\n"
   ]
  },
  {
   "cell_type": "code",
   "execution_count": 1,
   "metadata": {},
   "outputs": [
    {
     "ename": "TypeError",
     "evalue": "'type' object is not subscriptable",
     "output_type": "error",
     "traceback": [
      "\u001b[1;31m---------------------------------------------------------------------------\u001b[0m",
      "\u001b[1;31mTypeError\u001b[0m                                 Traceback (most recent call last)",
      "\u001b[1;32m<ipython-input-1-f024ab83ebde>\u001b[0m in \u001b[0;36m<module>\u001b[1;34m\u001b[0m\n\u001b[0;32m     12\u001b[0m     \u001b[1;32mreturn\u001b[0m \u001b[0msec\u001b[0m\u001b[1;33m\u001b[0m\u001b[1;33m\u001b[0m\u001b[0m\n\u001b[0;32m     13\u001b[0m \u001b[1;33m\u001b[0m\u001b[0m\n\u001b[1;32m---> 14\u001b[1;33m \u001b[0mprint\u001b[0m\u001b[1;33m(\u001b[0m\u001b[0msmax\u001b[0m\u001b[1;33m(\u001b[0m\u001b[0ml\u001b[0m\u001b[1;33m)\u001b[0m\u001b[1;33m)\u001b[0m\u001b[1;33m\u001b[0m\u001b[1;33m\u001b[0m\u001b[0m\n\u001b[0m",
      "\u001b[1;32m<ipython-input-1-f024ab83ebde>\u001b[0m in \u001b[0;36msmax\u001b[1;34m(l)\u001b[0m\n\u001b[0;32m      5\u001b[0m     \u001b[0mfir\u001b[0m\u001b[1;33m=\u001b[0m\u001b[0ml\u001b[0m\u001b[1;33m[\u001b[0m\u001b[1;36m0\u001b[0m\u001b[1;33m]\u001b[0m\u001b[1;33m\u001b[0m\u001b[1;33m\u001b[0m\u001b[0m\n\u001b[0;32m      6\u001b[0m \u001b[1;33m\u001b[0m\u001b[0m\n\u001b[1;32m----> 7\u001b[1;33m     \u001b[1;32mfor\u001b[0m \u001b[0mi\u001b[0m \u001b[1;32min\u001b[0m \u001b[0mrange\u001b[0m\u001b[1;33m[\u001b[0m\u001b[1;36m1\u001b[0m\u001b[1;33m,\u001b[0m\u001b[0mlen\u001b[0m\u001b[1;33m(\u001b[0m\u001b[0ml\u001b[0m\u001b[1;33m)\u001b[0m\u001b[1;33m]\u001b[0m\u001b[1;33m:\u001b[0m\u001b[1;33m\u001b[0m\u001b[1;33m\u001b[0m\u001b[0m\n\u001b[0m\u001b[0;32m      8\u001b[0m         \u001b[1;32mif\u001b[0m \u001b[0ml\u001b[0m\u001b[1;33m[\u001b[0m\u001b[0mi\u001b[0m\u001b[1;33m]\u001b[0m\u001b[1;33m>\u001b[0m\u001b[0mfir\u001b[0m\u001b[1;33m:\u001b[0m\u001b[1;33m\u001b[0m\u001b[1;33m\u001b[0m\u001b[0m\n\u001b[0;32m      9\u001b[0m             \u001b[0msec\u001b[0m\u001b[1;33m=\u001b[0m\u001b[0mfir\u001b[0m\u001b[1;33m\u001b[0m\u001b[1;33m\u001b[0m\u001b[0m\n",
      "\u001b[1;31mTypeError\u001b[0m: 'type' object is not subscriptable"
     ]
    }
   ],
   "source": [
    "#2nd large in array\n",
    "l = [10,20,30,5,6,40,4,5]\n",
    "\n",
    "def smax(l):\n",
    "    fir=l[0]   \n",
    "\n",
    "    for i in range[1,len(l)]:\n",
    "        if l[i]>fir:\n",
    "            sec=fir\n",
    "            fir=l[i]\n",
    "            \n",
    "    return sec\n",
    "\n",
    "print(smax(l))\n"
   ]
  },
  {
   "cell_type": "code",
   "execution_count": 2,
   "metadata": {},
   "outputs": [
    {
     "ename": "SyntaxError",
     "evalue": "invalid syntax (<ipython-input-2-3c5a6467419a>, line 19)",
     "output_type": "error",
     "traceback": [
      "\u001b[1;36m  File \u001b[1;32m\"<ipython-input-2-3c5a6467419a>\"\u001b[1;36m, line \u001b[1;32m19\u001b[0m\n\u001b[1;33m    if smax=None:\u001b[0m\n\u001b[1;37m           ^\u001b[0m\n\u001b[1;31mSyntaxError\u001b[0m\u001b[1;31m:\u001b[0m invalid syntax\n"
     ]
    }
   ],
   "source": [
    "#2nd large in array\n",
    "l = [60,10,20,30,5,6,40,4,5,50,70]\n",
    "\n",
    "def max(l):\n",
    "    fir=l[0]\n",
    "    for i in range(1,len(l)):\n",
    "        if l[i] > fir:\n",
    "            fir=l[i]\n",
    "    return fir\n",
    "\n",
    "\n",
    "\n",
    "def secmax(l):\n",
    "    lmax=max(l)\n",
    "    print(\"lmax=\"+str(lmax))\n",
    "    \n",
    "    smax=None\n",
    "    for i in range(1,len(l)):\n",
    "        if smax=None:\n",
    "            smax=l[i]\n",
    "        if l[i]!=lmax:\n",
    "            if smax>l[i]:\n",
    "                smax=l[i]\n",
    "                print(smax)\n",
    "    return smax\n",
    "\n",
    "print(secmax(l))\n",
    "\n",
    "\n"
   ]
  },
  {
   "cell_type": "code",
   "execution_count": 5,
   "metadata": {},
   "outputs": [
    {
     "name": "stdout",
     "output_type": "stream",
     "text": [
      "(70, 60)\n"
     ]
    }
   ],
   "source": [
    "#2nd large in array\n",
    "l = [60,10,20,30,5,6,40,4,5,50,70]\n",
    "# l = [60,60,50,60]\n",
    "\n",
    "def slargest(l):\n",
    "    fir=l[0]\n",
    "    sec=None\n",
    "    \n",
    "    for x in l[1:]:\n",
    "        if x>fir:\n",
    "            sec=fir\n",
    "            fir=x\n",
    "        if x!=fir:    \n",
    "            if sec==None or sec<x:\n",
    "                sec=x\n",
    "        \n",
    "    return fir,sec\n",
    "        \n",
    "\n",
    "print(slargest(l))"
   ]
  },
  {
   "cell_type": "code",
   "execution_count": 9,
   "metadata": {},
   "outputs": [
    {
     "name": "stdout",
     "output_type": "stream",
     "text": [
      "1\n"
     ]
    }
   ],
   "source": [
    "#sorted list or not\n",
    "l = [10,20,30,10]\n",
    "\n",
    "\n",
    "def sorted(l):\n",
    "    if len(l)==0:\n",
    "        return 1\n",
    "    if len(l)==1:\n",
    "        return 1\n",
    "# above if block is not required\n",
    "    start=l[0]\n",
    "\n",
    "\n",
    "    for x in l[1:]:\n",
    "        if x < start:\n",
    "            return 0\n",
    "        else:\n",
    "            start=x\n",
    "    return 1\n",
    "\n",
    "print(sorted(l))\n",
    "    "
   ]
  },
  {
   "cell_type": "code",
   "execution_count": 18,
   "metadata": {},
   "outputs": [
    {
     "name": "stdout",
     "output_type": "stream",
     "text": [
      "True\n"
     ]
    }
   ],
   "source": [
    "#sorted list or not using while \n",
    "\n",
    "l = []\n",
    "\n",
    "\n",
    "def sorted(l):\n",
    "\n",
    "    x=1\n",
    "    while x < len(l):\n",
    "        if l[x] > l[x-1]:\n",
    "            x+=1\n",
    "        else:\n",
    "            return False\n",
    "    return True\n",
    "\n",
    "print(sorted(l))"
   ]
  },
  {
   "cell_type": "code",
   "execution_count": null,
   "metadata": {},
   "outputs": [],
   "source": [
    "#find odd occurence 1st option with dict\n",
    "\n",
    "l = [10,20,30,10,20,40]\n",
    "\n",
    "di={}\n",
    "for x in l[:]:\n",
    "    if x not in di:\n",
    "        di[x]=1\n",
    "    else:\n",
    "        di[x]+=1\n",
    "\n",
    "print(di)\n",
    "print(type(di))\n",
    "\n",
    "newlist=[]\n",
    "# for x in di.keys():\n",
    "#     if di[x]%2!=0:\n",
    "#         newlist.append(x)\n",
    "        \n",
    "#single line iterative\n",
    "newlist={x for x in di.keys() if di[x]%2!=0}\n",
    "    \n",
    "print(newlist)\n",
    "\n",
    "\n",
    "\n",
    "\n",
    "\n"
   ]
  },
  {
   "cell_type": "code",
   "execution_count": 62,
   "metadata": {},
   "outputs": [
    {
     "name": "stdout",
     "output_type": "stream",
     "text": [
      "[30, 40]\n"
     ]
    }
   ],
   "source": [
    "#find odd occurence 2nd with inbuilt count\n",
    "\n",
    "l = [10,20,30,10,20,40]\n",
    "\n",
    "newlist=[]\n",
    "di={}\n",
    "for x in l:\n",
    "    if l.count(x)%2!=0:\n",
    "        if x not in newlist:\n",
    "            newlist.append(x)\n",
    "       \n",
    "print(newlist)\n"
   ]
  },
  {
   "cell_type": "code",
   "execution_count": 67,
   "metadata": {},
   "outputs": [
    {
     "name": "stdout",
     "output_type": "stream",
     "text": [
      "10\n",
      "0\n",
      "20\n",
      "0\n",
      "30\n",
      "54\n",
      "30\n"
     ]
    }
   ],
   "source": [
    "#find only odd occurence 3rd with XOR operator but only for the first odd occurence\n",
    "\n",
    "l = [10,10,20,20,30,40,40]\n",
    "\n",
    "res=0\n",
    "for x in l:\n",
    "    res=res^x\n",
    "    print(res)\n",
    "       \n"
   ]
  },
  {
   "cell_type": "code",
   "execution_count": null,
   "metadata": {},
   "outputs": [],
   "source": [
    "#reverse a list\n",
    "l = [10,20,30,5]\n",
    "\n",
    "x=len(l)-1\n",
    "print(x)\n",
    "newl=[]\n",
    "while x>=0:\n",
    "    newl.append(l[x])\n",
    "    x-=1\n",
    "    \n",
    "print(newl)\n",
    "    \n",
    "    "
   ]
  },
  {
   "cell_type": "code",
   "execution_count": 2,
   "metadata": {},
   "outputs": [
    {
     "name": "stdout",
     "output_type": "stream",
     "text": [
      "[6, 5, 30, 20, 10]\n"
     ]
    }
   ],
   "source": [
    "#reverse a list\n",
    "a = [10,20,30,5,6]\n",
    "\n",
    "l=0\n",
    "r=len(a)-1\n",
    "while l<r:\n",
    "    a[l],a[r]=a[r],a[l]\n",
    "    l+=1\n",
    "    r-=1\n",
    "print(a)"
   ]
  },
  {
   "cell_type": "code",
   "execution_count": 5,
   "metadata": {},
   "outputs": [
    {
     "name": "stdout",
     "output_type": "stream",
     "text": [
      "[20, 30, 5, 10]\n"
     ]
    }
   ],
   "source": [
    "#left rotate by 1\n",
    "a = [10,20,30,5]\n",
    "i=1\n",
    "last=a[0]\n",
    "while i<len(a):\n",
    "   a[i-1]=a[i]\n",
    "   i+=1\n",
    "a[len(a)-1]=last\n",
    "\n",
    "print(a)"
   ]
  },
  {
   "cell_type": "code",
   "execution_count": 7,
   "metadata": {},
   "outputs": [
    {
     "name": "stdout",
     "output_type": "stream",
     "text": [
      "[20, 30, 5, 10]\n"
     ]
    }
   ],
   "source": [
    "#left rotate by n places\n",
    "a = [10,20,30,5]\n",
    "i=1\n",
    "last=a[0]\n",
    "while i<len(a):\n",
    "   a[i-1]=a[i]\n",
    "   i+=1\n",
    "a[len(a)-1]=last\n",
    "\n",
    "print(a)"
   ]
  },
  {
   "cell_type": "code",
   "execution_count": null,
   "metadata": {},
   "outputs": [],
   "source": [
    "# distinct items\n",
    "l=[10,20,10,30,30,20]\n",
    "d={}\n",
    "for i in l:\n",
    "    if i in d:\n",
    "        d[]"
   ]
  }
 ],
 "metadata": {
  "kernelspec": {
   "display_name": "Python 3",
   "language": "python",
   "name": "python3"
  },
  "language_info": {
   "codemirror_mode": {
    "name": "ipython",
    "version": 3
   },
   "file_extension": ".py",
   "mimetype": "text/x-python",
   "name": "python",
   "nbconvert_exporter": "python",
   "pygments_lexer": "ipython3",
   "version": "3.7.3"
  }
 },
 "nbformat": 4,
 "nbformat_minor": 2
}
