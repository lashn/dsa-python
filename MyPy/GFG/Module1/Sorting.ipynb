{
 "cells": [
  {
   "cell_type": "code",
   "execution_count": null,
   "metadata": {},
   "outputs": [],
   "source": [
    "# bubble sort"
   ]
  },
  {
   "cell_type": "code",
   "execution_count": 1,
   "metadata": {
    "scrolled": true
   },
   "outputs": [
    {
     "name": "stdout",
     "output_type": "stream",
     "text": [
      "[2, 5, 8, 10, 18, 20]\n"
     ]
    }
   ],
   "source": [
    "# selection sort\n",
    "\n",
    "a=[10,5,8,20,2,18]\n",
    "\n",
    "def selsort(a):\n",
    "    n=len(a)\n",
    "    for i in range(n-1):\n",
    "        min_ind=i\n",
    "        for j in range(i+1,n):\n",
    "            if a[j]<a[min_ind]:\n",
    "                min_ind=j\n",
    "        a[i],a[min_ind]=a[min_ind],a[i]\n",
    "    return a\n",
    "            \n",
    "                \n",
    "            \n",
    "print(selsort(a))"
   ]
  },
  {
   "cell_type": "code",
   "execution_count": 6,
   "metadata": {},
   "outputs": [
    {
     "name": "stdout",
     "output_type": "stream",
     "text": [
      "0\n",
      "1\n",
      "2\n",
      "3\n",
      "4\n",
      "5\n"
     ]
    }
   ],
   "source": [
    "n=6\n",
    "i=1\n",
    "# for i in range(n-1):\n",
    "#     for j in range(i+1,n):\n",
    "#         print(j)\n",
    "\n",
    "for i in range(n):\n",
    "    print(i)\n",
    "    \n",
    "    "
   ]
  },
  {
   "cell_type": "code",
   "execution_count": 5,
   "metadata": {},
   "outputs": [
    {
     "name": "stdout",
     "output_type": "stream",
     "text": [
      "[4, 5, 10, 20, 30, 60]\n"
     ]
    }
   ],
   "source": [
    "#insertion sort\n",
    "\n",
    "l=[20,5,4,60,10,30]\n",
    "# [5,20,4,60..]\n",
    "#     j x\n",
    "#     1 2\n",
    "# [1,4,2]\n",
    "#[4,5,20,60,10,30]\n",
    "#         j  x{i}\n",
    "#         3  4\n",
    "for i in range(1,len(l)):\n",
    "    x=l[i]\n",
    "    j=i-1\n",
    "    while j>=0 and x<l[j]:\n",
    "        l[j+1]=l[j]\n",
    "        j=j-1    \n",
    "    l[j+1]=x\n",
    "\n",
    "print(l)\n",
    "    \n",
    "    \n",
    "    "
   ]
  },
  {
   "cell_type": "code",
   "execution_count": 36,
   "metadata": {},
   "outputs": [
    {
     "name": "stdout",
     "output_type": "stream",
     "text": [
      "[5, 6, 6, 6, 10, 15, 30, 40]\n"
     ]
    }
   ],
   "source": [
    "# merge array\n",
    "\n",
    "a=[6,10,15]\n",
    "b=[5,6,6,30,40]\n",
    "\n",
    "res=[]\n",
    "\n",
    "m=len(a)\n",
    "n=len(b)\n",
    "i=0\n",
    "j=0\n",
    "\n",
    "while i<m and j<n:\n",
    "    if a[i]<=b[j]:\n",
    "        res.append(a[i])\n",
    "        i=i+1\n",
    "    else:\n",
    "        res.append(b[j])\n",
    "        j=j+1\n",
    "    \n",
    "while i<m:\n",
    "    res.append(a[i])\n",
    "    i+=1\n",
    "\n",
    "while j<n:\n",
    "    res.append(b[j])\n",
    "    j+=1\n",
    "    \n",
    "print(res)"
   ]
  },
  {
   "cell_type": "code",
   "execution_count": 31,
   "metadata": {},
   "outputs": [
    {
     "name": "stdout",
     "output_type": "stream",
     "text": [
      "0\n"
     ]
    }
   ],
   "source": [
    "# merge sort for sub array\n",
    "\n",
    "a=[10,15,20,11,13]\n",
    "\n",
    "low=0\n",
    "high=4\n",
    "mid=2\n",
    "lpos=0\n",
    "for i in range(mid+1,high):\n",
    "    if a[i]>a[mid]:\n",
    "        lpos=mid\n",
    "    mid-=1\n",
    "\n",
    "print(lpos)\n",
    "        \n",
    "\n"
   ]
  },
  {
   "cell_type": "code",
   "execution_count": 27,
   "metadata": {},
   "outputs": [
    {
     "name": "stdout",
     "output_type": "stream",
     "text": [
      "3\n",
      "4\n"
     ]
    }
   ],
   "source": [
    "high=4\n",
    "mid=2\n",
    "\n",
    "for i in range(mid+1,high+1):    \n",
    "    print(i)\n",
    "    mid-=1\n",
    "    "
   ]
  },
  {
   "cell_type": "code",
   "execution_count": null,
   "metadata": {},
   "outputs": [],
   "source": []
  },
  {
   "cell_type": "code",
   "execution_count": null,
   "metadata": {},
   "outputs": [],
   "source": []
  },
  {
   "cell_type": "code",
   "execution_count": null,
   "metadata": {},
   "outputs": [],
   "source": []
  },
  {
   "cell_type": "code",
   "execution_count": null,
   "metadata": {},
   "outputs": [],
   "source": []
  }
 ],
 "metadata": {
  "kernelspec": {
   "display_name": "Python 3",
   "language": "python",
   "name": "python3"
  },
  "language_info": {
   "codemirror_mode": {
    "name": "ipython",
    "version": 3
   },
   "file_extension": ".py",
   "mimetype": "text/x-python",
   "name": "python",
   "nbconvert_exporter": "python",
   "pygments_lexer": "ipython3",
   "version": "3.7.3"
  }
 },
 "nbformat": 4,
 "nbformat_minor": 2
}
