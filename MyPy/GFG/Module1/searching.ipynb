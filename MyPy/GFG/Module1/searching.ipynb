{
 "cells": [
  {
   "cell_type": "code",
   "execution_count": null,
   "metadata": {},
   "outputs": [],
   "source": [
    "# binary search\n",
    "\n"
   ]
  },
  {
   "cell_type": "code",
   "execution_count": 7,
   "metadata": {},
   "outputs": [
    {
     "name": "stdout",
     "output_type": "stream",
     "text": [
      "enter a number20\n",
      "4\n",
      "None\n"
     ]
    }
   ],
   "source": [
    "#first occurence of a index of number\n",
    "\n",
    "a=[1,10,10,10,20,20,40]\n",
    "\n",
    "\n",
    "def firstind(a,x):\n",
    "    l=len(a)\n",
    "    \n",
    "    mid=l//2\n",
    "    high=l-1\n",
    "    low=0\n",
    "    \n",
    "    if x==mid:\n",
    "        return 1\n",
    "    if x<mid:\n",
    "        high =mid - 1\n",
    "        print(high)\n",
    "    \n",
    "    if x>mid:\n",
    "        low=mid + 1\n",
    "        print(low)\n",
    "        \n",
    "    \n",
    "    \n",
    "    \n",
    "    \n",
    "x= int(input(\"enter a number\"))\n",
    "print(firstind(a,x))\n",
    "\n"
   ]
  },
  {
   "cell_type": "code",
   "execution_count": 22,
   "metadata": {},
   "outputs": [
    {
     "name": "stdout",
     "output_type": "stream",
     "text": [
      "enter a number10\n",
      "0\n"
     ]
    }
   ],
   "source": [
    "#first occurence of a index of number\n",
    "\n",
    "a=[10,15,20,20,20,40,40]\n",
    "  \n",
    "    \n",
    "\n",
    "def firstind(a,x):\n",
    "    l=len(a)    \n",
    "    low=0\n",
    "    high=l-1\n",
    "\n",
    "    \n",
    "    while(low<=high):\n",
    "        mid=(low+high)//2\n",
    "        if x<a[mid]:\n",
    "            high=mid-1\n",
    "        elif x>a[mid]:\n",
    "            low=mid+1\n",
    "        else:           \n",
    "            if mid==l-1 or a[mid]!=a[mid-1]:\n",
    "                return mid\n",
    "            else:\n",
    "                low=mid-1\n",
    "    return -1\n",
    "     \n",
    "    \n",
    "x= int(input(\"enter a number\"))\n",
    "print(firstind(a,x))\n"
   ]
  },
  {
   "cell_type": "code",
   "execution_count": 14,
   "metadata": {},
   "outputs": [
    {
     "name": "stdout",
     "output_type": "stream",
     "text": [
      "enter a number40\n",
      "6\n"
     ]
    }
   ],
   "source": [
    "#last occurence of a index of number\n",
    "\n",
    "a=[10,15,15,15,15,40,40]\n",
    "    \n",
    "    \n",
    "\n",
    "def lastind(a,x):\n",
    "    l=len(a)    \n",
    "    low=0\n",
    "    high=l-1\n",
    "\n",
    "    \n",
    "    while(low<=high):\n",
    "        mid=(low+high)//2\n",
    "        if x<a[mid]:\n",
    "            high=mid-1\n",
    "        elif x>a[mid]:\n",
    "            low=mid+1\n",
    "        else:           \n",
    "            if mid==l-1 or a[mid]!=a[mid+1]:\n",
    "                return mid\n",
    "            else:\n",
    "                low=mid+1\n",
    "    return -1\n",
    "     \n",
    "    \n",
    "x= int(input(\"enter a number\"))\n",
    "print(lastind(a,x))\n",
    "\n"
   ]
  },
  {
   "cell_type": "code",
   "execution_count": 20,
   "metadata": {},
   "outputs": [
    {
     "name": "stdout",
     "output_type": "stream",
     "text": [
      "1\n"
     ]
    }
   ],
   "source": [
    "#count occurences in sorted array\n",
    "\n",
    "a=[10,15,15,15,15,40,40]\n",
    "x=10\n",
    "sum=0\n",
    "\n",
    "for i in range(len(a)):\n",
    "    if(x==a[i]):\n",
    "        sum=sum+1\n",
    "print(sum)\n",
    "\n",
    "\n"
   ]
  },
  {
   "cell_type": "code",
   "execution_count": 43,
   "metadata": {},
   "outputs": [
    {
     "name": "stdout",
     "output_type": "stream",
     "text": [
      "enter a num40\n",
      "index from bin search5\n",
      "1\n"
     ]
    }
   ],
   "source": [
    "#count occurences in sorted array, using binary search\n",
    "\n",
    "a=[10,15,15,15,15,15,20,40,40,40,50,50]\n",
    "\n",
    "def countind(a,x):\n",
    "    l=len(a)\n",
    "    high=l-1\n",
    "    low=0    \n",
    "    \n",
    "    while(low<=high):\n",
    "        mid=(low+high)//2\n",
    "        if x>a[mid]:\n",
    "            low=mid+1\n",
    "        if x<a[mid]:\n",
    "            high=mid-1\n",
    "        else:\n",
    "            return mid\n",
    "    \n",
    "    return -1\n",
    "\n",
    "def binaryse(a,x):\n",
    "    l=len(a)\n",
    "    \n",
    "    occur=countind(a,x)\n",
    "    print(\"index from bin search\"+str(occur))\n",
    "    if occur==-1:\n",
    "        return False\n",
    "    count=1\n",
    "    left=occur\n",
    "    right=occur\n",
    "    while(left>=0):\n",
    "        if x==a[left-1]:\n",
    "            count=count+1\n",
    "            left-=1\n",
    "        else:\n",
    "            break\n",
    "    while(right<=l-1):\n",
    "        if x==a[right+1]:\n",
    "            count=count+1\n",
    "            right+=1\n",
    "        else:\n",
    "            break\n",
    "    return count\n",
    "        \n",
    "    \n",
    "    \n",
    "    \n",
    "x=int(input(\"enter a num\"))\n",
    "print(binaryse(a,x))\n",
    "      "
   ]
  },
  {
   "cell_type": "code",
   "execution_count": null,
   "metadata": {},
   "outputs": [],
   "source": [
    "#m"
   ]
  },
  {
   "cell_type": "code",
   "execution_count": null,
   "metadata": {},
   "outputs": [],
   "source": []
  },
  {
   "cell_type": "code",
   "execution_count": null,
   "metadata": {},
   "outputs": [],
   "source": []
  }
 ],
 "metadata": {
  "kernelspec": {
   "display_name": "Python 3",
   "language": "python",
   "name": "python3"
  },
  "language_info": {
   "codemirror_mode": {
    "name": "ipython",
    "version": 3
   },
   "file_extension": ".py",
   "mimetype": "text/x-python",
   "name": "python",
   "nbconvert_exporter": "python",
   "pygments_lexer": "ipython3",
   "version": "3.7.3"
  }
 },
 "nbformat": 4,
 "nbformat_minor": 2
}
